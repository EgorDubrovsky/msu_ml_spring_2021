{
 "cells": [
  {
   "cell_type": "markdown",
   "metadata": {},
   "source": [
    "### Алгоритмы интеллектуальной обработки больших объемов данных\n",
    "## Домашнее задание №3 - Дерево решений\n"
   ]
  },
  {
   "cell_type": "markdown",
   "metadata": {},
   "source": [
    "**Общая информация**\n",
    "\n",
    "**Срок сдачи:** 3 мая 2021, 08:30   \n",
    "**Штраф за опоздание:** -2 балла после 08:30 03 мая, -4 балла после 08:30 10 мая, -6 баллов после 08:30 17 мая, -8 баллов после 08:30 24 мая.\n",
    "\n",
    "При отправлении ДЗ указывайте фамилию в названии файла Присылать ДЗ необходимо в виде ссылки на свой github репозиторий на почту ml1.sphere@mail.ru с указанием темы в следующем формате:\n",
    "[ML0221, Задание 3] Фамилия Имя. \n",
    "\n",
    "\n",
    "Используйте данный Ipython Notebook при оформлении домашнего задания."
   ]
  },
  {
   "cell_type": "markdown",
   "metadata": {},
   "source": [
    "##  Реализуем дерево решений (3 балла)"
   ]
  },
  {
   "cell_type": "markdown",
   "metadata": {},
   "source": [
    "Допишите недостающие части дерева решений. Ваша реализация дерева должна работать по точности не хуже DecisionTreeClassifier из sklearn.\n",
    "Внимание: если Вас не устраивает предложенная структура хранения дерева, Вы без потери баллов можете сделать свой класс DecisionTreeClassifier, в котором сами полностью воспроизведете алгоритм дерева решений. Обязательно в нем иметь только функции fit, predict"
   ]
  },
  {
   "cell_type": "code",
   "execution_count": 1,
   "metadata": {},
   "outputs": [],
   "source": [
    "import matplotlib.pyplot as plt\n",
    "%matplotlib inline\n",
    "import numpy as np\n",
    "import pandas as pd\n",
    "import scipy\n",
    "\n",
    "from sklearn.datasets import load_wine\n",
    "from sklearn.ensemble import RandomForestClassifier\n",
    "from sklearn.metrics import accuracy_score, precision_score, recall_score, f1_score\n",
    "from sklearn.model_selection import KFold, train_test_split, GridSearchCV, RandomizedSearchCV\n",
    "from sklearn.tree import DecisionTreeClassifier\n"
   ]
  },
  {
   "cell_type": "code",
   "execution_count": 69,
   "metadata": {},
   "outputs": [],
   "source": [
    "def classification_error_impurity(labels):\n",
    "    p = np.bincount(labels.astype(int)) / labels.size\n",
    "    return (1 - np.max(p) if p.size > 0 else 0)\n",
    "\n",
    "def gini_impurity(labels):\n",
    "    p = np.bincount(labels.astype(int)) / labels.size\n",
    "    return 1 - np.dot(p, p)\n",
    "\n",
    "def entropy_impurity(labels):\n",
    "    p = np.bincount(labels.astype(int)) / labels.size\n",
    "    p[p == 0] = 1 # меняем, чтобы логарифм нормально считался\n",
    "    return -np.dot(p, np.log(p))\n",
    "\n",
    "\n",
    "class MyDecisionTreeClassifier:\n",
    "    NON_LEAF_TYPE = 0\n",
    "    LEAF_TYPE = 1\n",
    "\n",
    "    def __init__(self, min_samples_split=2, max_depth=5, criterion='gini'):\n",
    "        \"\"\"\n",
    "        criterion -- критерий расщепления. необходимо релизовать три:\n",
    "        Ошибка классификации, Индекс Джини, Энтропийный критерий\n",
    "        max_depth -- максимальная глубина дерева\n",
    "        min_samples_split -- минимальное число объектов в листе, чтобы сделать новый сплит\n",
    "        \"\"\"\n",
    "        self.min_samples_split = min_samples_split\n",
    "        self.max_depth = max_depth\n",
    "        self.num_class = -1\n",
    "        # Для последнего задания\n",
    "        self.feature_importances_ = None\n",
    "        self.criterion = criterion\n",
    "        \n",
    "        if self.criterion == 'classification_error':\n",
    "            self.impurity = classification_error_impurity\n",
    "        elif self.criterion == 'gini':\n",
    "            self.impurity = gini_impurity\n",
    "        elif self.criterion == 'entropy':\n",
    "            self.impurity = entropy_impurity\n",
    "        \n",
    "        self.used_features = []\n",
    "        self.importances = dict()\n",
    "        # Структура, которая описывает дерево\n",
    "        # Представляет словарь, где для  node_id (айдишник узла дерева) храним\n",
    "        # (тип_узла, айдишник признака сплита, порог сплита) если тип NON_LEAF_TYPE\n",
    "        # (тип_узла, предсказание класса, вероятность класса) если тип LEAF_TYPE\n",
    "        # Подразумевается, что у каждого node_id в дереве слева \n",
    "        # узел с айди 2 * node_id + 1, а справа 2 * node_id + 2\n",
    "        self.tree = dict()\n",
    "\n",
    "    def __div_samples(self, x, y, feature_id, threshold):\n",
    "        \"\"\"\n",
    "        Разделяет объекты на 2 множества\n",
    "        x -- матрица объектов\n",
    "        y -- вектор ответов\n",
    "        feature_id -- айдишник признака, по которому делаем сплит\n",
    "        threshold -- порог, по которому делаем сплит\n",
    "        \"\"\"\n",
    "        left_mask = x[:, feature_id] > threshold\n",
    "        right_mask = ~left_mask\n",
    "        return x[left_mask], x[right_mask], y[left_mask], y[right_mask]\n",
    "\n",
    "    def __find_threshold(self, x, y):\n",
    "        \"\"\"\n",
    "        Находим оптимальный признак и порог для сплита\n",
    "        Здесь используемые разные impurity в зависимости от self.criterion\n",
    "        \"\"\"\n",
    "        # Ваш код здесь\n",
    "        selected_feature = 0\n",
    "        selected_threshold = 0\n",
    "        max_gain = 0\n",
    "        \n",
    "        for feature_id in range(x.shape[1]):\n",
    "                for feature_val in np.unique(x[:, feature_id]):\n",
    "                    x_left, x_right, y_left, y_right = self.__div_samples(x, y, feature_id, feature_val)\n",
    "                    n_left = x_left.shape[0]\n",
    "                    n_right = x_right.shape[0]\n",
    "                    info_gain = (self.impurity(y) - \n",
    "                                (n_left / x.shape[0]) * self.impurity(y_left) - \n",
    "                                (n_right / x.shape[0]) * self.impurity(y_right))\n",
    "                    if info_gain > max_gain:\n",
    "                        selected_feature = feature_id\n",
    "                        selected_threshold = feature_val\n",
    "                        max_gain = info_gain\n",
    "        self.used_features.append(selected_feature)\n",
    "        \n",
    "        if selected_feature in self.importances.keys():\n",
    "            self.importances[selected_feature] += max_gain\n",
    "        else:\n",
    "            self.importances[selected_feature] = max_gain\n",
    "        return selected_feature, selected_threshold\n",
    "    \n",
    "    \n",
    "    def __fit_node(self, x, y, node_id, depth):\n",
    "        \"\"\"\n",
    "        Делаем новый узел в дереве\n",
    "        Решаем, терминальный он или нет\n",
    "        Если нет, то строим левый узел  с айди 2 * node_id + 1\n",
    "        И правый узел с  айди 2 * node_id + 2\n",
    "        \"\"\"\n",
    "        # Ваш код здесь\n",
    "        #print('Fitting node', node_id, '...')\n",
    "        if (x.shape[0] >= self.min_samples_split and depth < self.max_depth and len(np.unique(y)) > 1\n",
    "            and len(self.used_features) < x.shape[1]):\n",
    "            #  add non-leaf node\n",
    "            feature_id, threshold = self.__find_threshold(x, y)\n",
    "            x_left, x_right, y_left, y_right = self.__div_samples(x, y, feature_id, threshold)\n",
    "            self.tree[node_id] = (self.NON_LEAF_TYPE, feature_id, threshold)\n",
    "            if y_left.size != 0:\n",
    "                self.__fit_node(x_left, y_left, 2 * node_id + 1, depth + 1)\n",
    "            if y_right.size != 0:\n",
    "                self.__fit_node(x_right, y_right, 2 * node_id + 2, depth + 1)\n",
    "        else:\n",
    "            #  add leaf node\n",
    "            class_list, class_probabilities = np.unique(y, return_counts=True)\n",
    "            class_probabilities = class_probabilities / y.shape[0]\n",
    "            predict_id = class_list[np.argmax(class_probabilities)]\n",
    "            predict_prob = class_probabilities[np.argmax(class_probabilities)]\n",
    "            self.tree[node_id] = (self.LEAF_TYPE, predict_id, predict_prob)\n",
    "\n",
    "    \n",
    "    def fit(self, x, y):\n",
    "        \"\"\"\n",
    "        Рекурсивно строим дерево решений\n",
    "        Начинаем с корня node_id 0\n",
    "        \"\"\"\n",
    "        self.num_class = np.unique(y).size\n",
    "        self.__fit_node(x, y, 0, 0)\n",
    "\n",
    "    def __predict_class(self, x, node_id):\n",
    "        \"\"\"\n",
    "        Рекурсивно обходим дерево по всем узлам,\n",
    "        пока не дойдем до терминального\n",
    "        \"\"\"\n",
    "        node = self.tree[node_id]\n",
    "        if node[0] == self.__class__.NON_LEAF_TYPE:\n",
    "            _, feature_id, threshold = node\n",
    "            if x[feature_id] > threshold:\n",
    "                return self.__predict_class(x, 2 * node_id + 1)\n",
    "            else:\n",
    "                return self.__predict_class(x, 2 * node_id + 2)\n",
    "        else:\n",
    "            return node[1]\n",
    "        \n",
    "    def predict(self, X):\n",
    "        \"\"\"\n",
    "        Вызывает predict для всех объектов из матрицы X\n",
    "        \"\"\"\n",
    "        return np.array([self.__predict_class(x, 0) for x in X])\n",
    "    \n",
    "    def fit_predict(self, x_train, y_train, predicted_x):\n",
    "        self.fit(x_train, y_train)\n",
    "        return self.predict(predicted_x)\n",
    "    \n",
    "    def get_feature_importance(self):\n",
    "        \"\"\"\n",
    "        Возвращает важность признаков\n",
    "        \"\"\"\n",
    "        return self.importances"
   ]
  },
  {
   "cell_type": "code",
   "execution_count": 70,
   "metadata": {},
   "outputs": [],
   "source": [
    "my_clf = MyDecisionTreeClassifier(min_samples_split=2)\n",
    "clf = DecisionTreeClassifier(min_samples_split=2)"
   ]
  },
  {
   "cell_type": "code",
   "execution_count": 71,
   "metadata": {},
   "outputs": [],
   "source": [
    "wine = load_wine()\n",
    "X_train, X_test, y_train, y_test = train_test_split(wine.data, wine.target, test_size=0.1, stratify=wine.target)"
   ]
  },
  {
   "cell_type": "code",
   "execution_count": 72,
   "metadata": {
    "scrolled": true
   },
   "outputs": [
    {
     "data": {
      "text/plain": [
       "DecisionTreeClassifier()"
      ]
     },
     "execution_count": 72,
     "metadata": {},
     "output_type": "execute_result"
    }
   ],
   "source": [
    "my_clf.fit(X_train, y_train)\n",
    "clf.fit(X_train, y_train)"
   ]
  },
  {
   "cell_type": "code",
   "execution_count": 73,
   "metadata": {
    "scrolled": true
   },
   "outputs": [
    {
     "name": "stdout",
     "output_type": "stream",
     "text": [
      "scikit tree: 0.9444444444444444\n",
      "my tree: 0.9444444444444444\n"
     ]
    }
   ],
   "source": [
    "print('scikit tree:', accuracy_score(y_pred=clf.predict(X_test), y_true=y_test))\n",
    "print('my tree:', accuracy_score(y_pred=my_clf.predict(X_test), y_true=y_test))"
   ]
  },
  {
   "cell_type": "markdown",
   "metadata": {},
   "source": [
    "## Ускоряем дерево решений (2 балла)\n",
    "Добиться скорости работы на fit не медленнее чем в 10 раз sklearn на данных wine. \n",
    "Для этого используем numpy."
   ]
  },
  {
   "cell_type": "code",
   "execution_count": 85,
   "metadata": {
    "scrolled": true
   },
   "outputs": [
    {
     "name": "stdout",
     "output_type": "stream",
     "text": [
      "Wall time: 996 µs\n"
     ]
    },
    {
     "data": {
      "text/plain": [
       "DecisionTreeClassifier()"
      ]
     },
     "execution_count": 85,
     "metadata": {},
     "output_type": "execute_result"
    }
   ],
   "source": [
    "%time clf.fit(X_train, y_train)"
   ]
  },
  {
   "cell_type": "code",
   "execution_count": 86,
   "metadata": {
    "scrolled": false
   },
   "outputs": [
    {
     "name": "stdout",
     "output_type": "stream",
     "text": [
      "Wall time: 6.94 ms\n"
     ]
    }
   ],
   "source": [
    "%time my_clf.fit(X_train, y_train)"
   ]
  },
  {
   "cell_type": "code",
   "execution_count": null,
   "metadata": {},
   "outputs": [],
   "source": []
  },
  {
   "cell_type": "markdown",
   "metadata": {},
   "source": [
    "## Боевое применение (3 балла)\n",
    "\n",
    "На практике Вы познакомились с датасетом Speed Dating Data. В нем каждая пара в быстрых свиданиях характеризуется определенным набором признаков. Задача -- предсказать, произойдет ли матч пары (колонка match). \n",
    "\n",
    "Пример работы с датасетом можете найти в практике пункт 2\n",
    "https://github.com/VVVikulin/ml1.sphere/blob/master/2019-09/lecture_06/pract-trees.ipynb\n",
    "\n",
    "Данные и описания колонок лежат тут\n",
    "https://cloud.mail.ru/public/8nHV/p6J7wY1y1/speed-dating-experiment/"
   ]
  },
  {
   "cell_type": "markdown",
   "metadata": {},
   "source": [
    "Скачайте датасет, обработайте данные, как показано на семинаре или своим собственным способом. Обучите дерево классифкации. В качестве таргета возьмите колонку 'match'. Постарайтесь хорошо обработать признаки, чтобы выбить максимальную точность. Если точность будет близка к случайному гаданию, задание не будет защитано. \n"
   ]
  },
  {
   "cell_type": "code",
   "execution_count": 88,
   "metadata": {},
   "outputs": [],
   "source": [
    "def encode_feature(df, categ_feature):\n",
    "    for i in df[categ_feature].unique():\n",
    "        df[categ_feature + '=' + str(int(i))] = (df[categ_feature] == i).astype(float)\n",
    "    df = df.drop([categ_feature], axis=1)\n",
    "    return df\n",
    "\n",
    "def preproc(df_init):\n",
    "    df = df_init.copy()\n",
    "    df = df.iloc[:, :97]\n",
    "    \n",
    "    df = df.drop(['id'], axis = 1)\n",
    "    df = df.drop(['idg'], axis = 1)\n",
    "    df = df.drop(['condtn'], axis=1)\n",
    "    df = df.drop(['round'], axis=1)\n",
    "    df = df.drop(['position', 'positin1'], axis=1)\n",
    "    df = df.drop(['order'], axis=1)\n",
    "    df = df.drop(['partner'], axis=1)\n",
    "    df = df.drop(['age_o', 'race_o', 'pf_o_att', \n",
    "              'pf_o_sin', 'pf_o_int',\n",
    "              'pf_o_fun', 'pf_o_amb', 'pf_o_sha',\n",
    "              'dec_o', 'attr_o', 'sinc_o', 'intel_o', 'fun_o',\n",
    "              'amb_o', 'shar_o', 'like_o', 'prob_o','met_o'], \n",
    "             axis=1)\n",
    "    df = df.dropna(subset=['age'])\n",
    "    df.loc[:, 'field_cd'] = df.loc[:, 'field_cd'].fillna(19)\n",
    "    df = df.drop(['field'], axis=1)\n",
    "    df = encode_feature(df, 'field_cd')\n",
    "    df = df.drop(['undergra'], axis=1)\n",
    "    df.loc[:, 'mn_sat'] = df.loc[:, 'mn_sat'].str.replace(',', '').astype(np.float)\n",
    "    df.loc[:, 'mn_sat'] = df.loc[:, 'mn_sat'].fillna(0.0)\n",
    "    df.loc[:, 'tuition'] = df.loc[:, 'tuition'].str.replace(',', '').astype(np.float)\n",
    "    df.loc[:, 'tuition'] = df.loc[:, 'tuition'].fillna(0.0)\n",
    "    df = encode_feature(df, 'race')\n",
    "    df = df.dropna(subset=['imprelig', 'imprace'])\n",
    "    df = df.drop(['from', 'zipcode'], axis=1)\n",
    "    df = df.drop(['income'], axis=1)\n",
    "    df = df.dropna(subset=['date'])\n",
    "    df = encode_feature(df, 'goal')\n",
    "    df = encode_feature(df, 'date')\n",
    "    df = encode_feature(df, 'go_out')\n",
    "\n",
    "    df.loc[:, 'career_c'] = df.loc[:, 'career_c'].fillna(18)\n",
    "    df = df.drop(['career'], axis=1)\n",
    "    #encode career_c\n",
    "    df = encode_feature(df, 'career_c')\n",
    "    df = df.drop(['sports','tvsports','exercise','dining','museums','art','hiking','gaming',\n",
    "       'clubbing','reading','tv','theater','movies','concerts','music','shopping','yoga'], axis=1)\n",
    "    df = df.drop(['expnum'], axis=1)\n",
    "    \n",
    "    df.loc[:, 'temp_totalsum'] = df.loc[:, ['attr1_1', 'sinc1_1', 'intel1_1', 'fun1_1', 'amb1_1', 'shar1_1']].sum(axis=1)\n",
    "    df.loc[:, ['attr1_1', 'sinc1_1', 'intel1_1', 'fun1_1', 'amb1_1', 'shar1_1']] = \\\n",
    "    (df.loc[:, ['attr1_1', 'sinc1_1', 'intel1_1', 'fun1_1', 'amb1_1', 'shar1_1']].T/df.loc[:, 'temp_totalsum'].T).T * 100\n",
    "    df.loc[:, 'temp_totalsum'] = df.loc[:, ['attr2_1', 'sinc2_1', 'intel2_1', 'fun2_1', 'amb2_1', 'shar2_1']].sum(axis=1)\n",
    "    df.loc[:, ['attr2_1', 'sinc2_1', 'intel2_1', 'fun2_1', 'amb2_1', 'shar2_1']] = \\\n",
    "    (df.loc[:, ['attr2_1', 'sinc2_1', 'intel2_1', 'fun2_1', 'amb2_1', 'shar2_1']].T/df.loc[:, 'temp_totalsum'].T).T * 100\n",
    "    df = df.drop(['temp_totalsum'], axis=1)\n",
    "    \n",
    "    for i in [4, 5]:\n",
    "        feat = ['attr{}_1'.format(i), 'sinc{}_1'.format(i), \n",
    "                'intel{}_1'.format(i), 'fun{}_1'.format(i), \n",
    "                'amb{}_1'.format(i), 'shar{}_1'.format(i)]\n",
    "    \n",
    "    if i != 4:\n",
    "        feat.remove('shar{}_1'.format(i))\n",
    "    \n",
    "    df = df.drop(feat, axis=1)\n",
    "    \n",
    "    df = df.drop(['wave'], axis=1)\n",
    "    df_male = df.query('gender == 1').drop_duplicates(subset=['iid', 'pid'])\\\n",
    "                                 .drop(['gender'], axis=1)\\\n",
    "                                 .dropna()\n",
    "    df_female = df.query('gender == 0').drop_duplicates(subset=['iid'])\\\n",
    "                                   .drop(['gender', 'match', 'int_corr', 'samerace'], axis=1)\\\n",
    "                                   .dropna()\n",
    "        \n",
    "    df_female.columns = df_female.columns + '_f'\n",
    "    df = df_male.set_index('iid').join(df_female.set_index('pid_f'))\n",
    "    df = df.drop(['iid_f', 'pid'], axis=1)\n",
    "    df = df.fillna(value = 0)\n",
    "    \n",
    "\n",
    "    return df"
   ]
  },
  {
   "cell_type": "code",
   "execution_count": 89,
   "metadata": {},
   "outputs": [],
   "source": [
    "df = pd.read_csv('data/speed_dating.csv', encoding='cp1251')\n",
    "df = df.pipe(preproc)\n",
    "\n",
    "X = df.copy()\n",
    "X = X.drop(['match'], axis=1)\n",
    "y = df['match']\n",
    "\n",
    "X_train, X_test, y_train, y_test = train_test_split(X.values, y.values, train_size=0.9, test_size=0.1, stratify=y.values)"
   ]
  },
  {
   "cell_type": "code",
   "execution_count": 90,
   "metadata": {},
   "outputs": [],
   "source": [
    "my_clf = MyDecisionTreeClassifier(min_samples_split=1, max_depth=5, criterion='entropy')"
   ]
  },
  {
   "cell_type": "code",
   "execution_count": 92,
   "metadata": {
    "scrolled": true
   },
   "outputs": [],
   "source": [
    "my_clf.fit(X_train, y_train)"
   ]
  },
  {
   "cell_type": "markdown",
   "metadata": {},
   "source": [
    "Разбейте датасет на трейн и валидацию. Подберите на валидации оптимальный критерий  информативности. \n",
    "Постройте графики зависимости точности на валидации от глубины дерева, от минимального числа объектов для сплита. \n",
    "Какой максимальной точности удалось достигнуть?"
   ]
  },
  {
   "cell_type": "code",
   "execution_count": 329,
   "metadata": {},
   "outputs": [
    {
     "name": "stdout",
     "output_type": "stream",
     "text": [
      "Fitting tree with criterion classification_error, max_depth=2, min_samples_split=2 ...\n",
      "Accuracy: 0.8409164706846655\n",
      "Fitting tree with criterion classification_error, max_depth=2, min_samples_split=4 ...\n",
      "Accuracy: 0.8393473011229295\n",
      "Fitting tree with criterion classification_error, max_depth=2, min_samples_split=8 ...\n",
      "Accuracy: 0.8406020062672206\n",
      "Fitting tree with criterion classification_error, max_depth=2, min_samples_split=16 ...\n",
      "Accuracy: 0.8396637358688045\n",
      "Fitting tree with criterion classification_error, max_depth=2, min_samples_split=32 ...\n",
      "Accuracy: 0.8415477639136713\n",
      "Fitting tree with criterion classification_error, max_depth=3, min_samples_split=2 ...\n",
      "Accuracy: 0.8393461189258715\n",
      "Fitting tree with criterion classification_error, max_depth=3, min_samples_split=4 ...\n",
      "Accuracy: 0.8418590758056279\n",
      "Fitting tree with criterion classification_error, max_depth=3, min_samples_split=8 ...\n",
      "Accuracy: 0.840289906243892\n",
      "Fitting tree with criterion classification_error, max_depth=3, min_samples_split=16 ...\n",
      "Accuracy: 0.8418571054771977\n",
      "Fitting tree with criterion classification_error, max_depth=3, min_samples_split=32 ...\n",
      "Accuracy: 0.8393425723346973\n",
      "Fitting tree with criterion classification_error, max_depth=4, min_samples_split=2 ...\n",
      "Accuracy: 0.837148020529246\n",
      "Fitting tree with criterion classification_error, max_depth=4, min_samples_split=4 ...\n",
      "Accuracy: 0.8402879359154618\n",
      "Fitting tree with criterion classification_error, max_depth=4, min_samples_split=8 ...\n",
      "Accuracy: 0.8402883299811479\n",
      "Fitting tree with criterion classification_error, max_depth=4, min_samples_split=16 ...\n",
      "Accuracy: 0.8387207366821562\n",
      "Fitting tree with criterion classification_error, max_depth=4, min_samples_split=32 ...\n",
      "Accuracy: 0.8399742596293891\n",
      "Fitting tree with criterion classification_error, max_depth=5, min_samples_split=2 ...\n",
      "Accuracy: 0.840288724046834\n",
      "Fitting tree with criterion classification_error, max_depth=5, min_samples_split=4 ...\n",
      "Accuracy: 0.8393449367288134\n",
      "Fitting tree with criterion classification_error, max_depth=5, min_samples_split=8 ...\n",
      "Accuracy: 0.8396625536717465\n",
      "Fitting tree with criterion classification_error, max_depth=5, min_samples_split=16 ...\n",
      "Accuracy: 0.8387219188792141\n",
      "Fitting tree with criterion classification_error, max_depth=5, min_samples_split=32 ...\n",
      "Accuracy: 0.8387179782223539\n",
      "Fitting tree with criterion classification_error, max_depth=6, min_samples_split=2 ...\n",
      "Accuracy: 0.8324479990920727\n",
      "Fitting tree with criterion classification_error, max_depth=6, min_samples_split=4 ...\n",
      "Accuracy: 0.8352734500608437\n",
      "Fitting tree with criterion classification_error, max_depth=6, min_samples_split=8 ...\n",
      "Accuracy: 0.8346405805690938\n",
      "Fitting tree with criterion classification_error, max_depth=6, min_samples_split=16 ...\n",
      "Accuracy: 0.8387223129449002\n",
      "Fitting tree with criterion classification_error, max_depth=6, min_samples_split=32 ...\n",
      "Accuracy: 0.8377797078239377\n",
      "Fitting tree with criterion gini, max_depth=2, min_samples_split=2 ...\n",
      "Accuracy: 0.8396554604893981\n",
      "Fitting tree with criterion gini, max_depth=2, min_samples_split=4 ...\n",
      "Accuracy: 0.840609099449569\n",
      "Fitting tree with criterion gini, max_depth=2, min_samples_split=8 ...\n",
      "Accuracy: 0.8380973247668707\n",
      "Fitting tree with criterion gini, max_depth=2, min_samples_split=16 ...\n",
      "Accuracy: 0.8424915512316917\n",
      "Fitting tree with criterion gini, max_depth=2, min_samples_split=32 ...\n",
      "Accuracy: 0.8424887927718896\n",
      "Fitting tree with criterion gini, max_depth=3, min_samples_split=2 ...\n",
      "Accuracy: 0.839037959559403\n",
      "Fitting tree with criterion gini, max_depth=3, min_samples_split=4 ...\n",
      "Accuracy: 0.8402843893242876\n",
      "Fitting tree with criterion gini, max_depth=3, min_samples_split=8 ...\n",
      "Accuracy: 0.841223841919762\n",
      "Fitting tree with criterion gini, max_depth=3, min_samples_split=16 ...\n",
      "Accuracy: 0.8406027943985928\n",
      "Fitting tree with criterion gini, max_depth=3, min_samples_split=32 ...\n",
      "Accuracy: 0.8418586817399418\n",
      "Fitting tree with criterion gini, max_depth=4, min_samples_split=2 ...\n",
      "Accuracy: 0.8368335561118011\n",
      "Fitting tree with criterion gini, max_depth=4, min_samples_split=4 ...\n",
      "Accuracy: 0.8318198583885551\n",
      "Fitting tree with criterion gini, max_depth=4, min_samples_split=8 ...\n",
      "Accuracy: 0.8371559018429664\n",
      "Fitting tree with criterion gini, max_depth=4, min_samples_split=16 ...\n",
      "Accuracy: 0.8365242145482747\n",
      "Fitting tree with criterion gini, max_depth=4, min_samples_split=32 ...\n",
      "Accuracy: 0.8374628790123768\n",
      "Fitting tree with criterion gini, max_depth=5, min_samples_split=2 ...\n",
      "Accuracy: 0.8343269042830211\n",
      "Fitting tree with criterion gini, max_depth=5, min_samples_split=4 ...\n",
      "Accuracy: 0.834960955971829\n",
      "Fitting tree with criterion gini, max_depth=5, min_samples_split=8 ...\n",
      "Accuracy: 0.8324448465665845\n",
      "Fitting tree with criterion gini, max_depth=5, min_samples_split=16 ...\n",
      "Accuracy: 0.8305659413756361\n",
      "Fitting tree with criterion gini, max_depth=5, min_samples_split=32 ...\n",
      "Accuracy: 0.8324452406322704\n",
      "Fitting tree with criterion gini, max_depth=6, min_samples_split=2 ...\n",
      "Accuracy: 0.8264751454890512\n",
      "Fitting tree with criterion gini, max_depth=6, min_samples_split=4 ...\n",
      "Accuracy: 0.8271127437690333\n",
      "Fitting tree with criterion gini, max_depth=6, min_samples_split=8 ...\n",
      "Accuracy: 0.8314994829858199\n",
      "Fitting tree with criterion gini, max_depth=6, min_samples_split=16 ...\n",
      "Accuracy: 0.8258552801649401\n",
      "Fitting tree with criterion gini, max_depth=6, min_samples_split=32 ...\n",
      "Accuracy: 0.827423267529618\n",
      "Fitting tree with criterion entropy, max_depth=2, min_samples_split=2 ...\n",
      "Accuracy: 0.8424828817865992\n",
      "Fitting tree with criterion entropy, max_depth=2, min_samples_split=4 ...\n",
      "Accuracy: 0.8424832758522853\n",
      "Fitting tree with criterion entropy, max_depth=2, min_samples_split=8 ...\n",
      "Accuracy: 0.841542246994067\n",
      "Fitting tree with criterion entropy, max_depth=2, min_samples_split=16 ...\n",
      "Accuracy: 0.8424832758522853\n",
      "Fitting tree with criterion entropy, max_depth=2, min_samples_split=32 ...\n",
      "Accuracy: 0.8424864283777734\n",
      "Fitting tree with criterion entropy, max_depth=3, min_samples_split=2 ...\n",
      "Accuracy: 0.8427957699412999\n",
      "Fitting tree with criterion entropy, max_depth=3, min_samples_split=4 ...\n",
      "Accuracy: 0.8402891181125199\n",
      "Fitting tree with criterion entropy, max_depth=3, min_samples_split=8 ...\n",
      "Accuracy: 0.8424868224434595\n",
      "Fitting tree with criterion entropy, max_depth=3, min_samples_split=16 ...\n",
      "Accuracy: 0.8421711758289566\n",
      "Fitting tree with criterion entropy, max_depth=3, min_samples_split=32 ...\n",
      "Accuracy: 0.8424809114581691\n",
      "Fitting tree with criterion entropy, max_depth=4, min_samples_split=2 ...\n",
      "Accuracy: 0.8409172588160375\n",
      "Fitting tree with criterion entropy, max_depth=4, min_samples_split=4 ...\n",
      "Accuracy: 0.8405957012162444\n",
      "Fitting tree with criterion entropy, max_depth=4, min_samples_split=8 ...\n",
      "Accuracy: 0.8415481579793572\n",
      "Fitting tree with criterion entropy, max_depth=4, min_samples_split=16 ...\n",
      "Accuracy: 0.8415469757822992\n",
      "Fitting tree with criterion entropy, max_depth=4, min_samples_split=32 ...\n",
      "Accuracy: 0.840292270638008\n",
      "Fitting tree with criterion entropy, max_depth=5, min_samples_split=2 ...\n",
      "Accuracy: 0.8406000359387905\n",
      "Fitting tree with criterion entropy, max_depth=5, min_samples_split=4 ...\n",
      "Accuracy: 0.8399762299578193\n",
      "Fitting tree with criterion entropy, max_depth=5, min_samples_split=8 ...\n",
      "Accuracy: 0.8377793137582517\n",
      "Fitting tree with criterion entropy, max_depth=5, min_samples_split=16 ...\n",
      "Accuracy: 0.8390371714280309\n",
      "Fitting tree with criterion entropy, max_depth=5, min_samples_split=32 ...\n",
      "Accuracy: 0.8418645927252322\n",
      "Fitting tree with criterion entropy, max_depth=6, min_samples_split=2 ...\n",
      "Accuracy: 0.8333874516875468\n",
      "Fitting tree with criterion entropy, max_depth=6, min_samples_split=4 ...\n",
      "Accuracy: 0.8402895121782059\n",
      "Fitting tree with criterion entropy, max_depth=6, min_samples_split=8 ...\n",
      "Accuracy: 0.8358917391222108\n",
      "Fitting tree with criterion entropy, max_depth=6, min_samples_split=16 ...\n",
      "Accuracy: 0.8387164019596098\n",
      "Fitting tree with criterion entropy, max_depth=6, min_samples_split=32 ...\n",
      "Accuracy: 0.835577274704766\n"
     ]
    },
    {
     "data": {
      "text/plain": [
       "'\"\\nclf_gini = MyDecisionTreeClassifier(min_samples_split=2, criterion=\\'gini\\')\\nclf_entropy = MyDecisionTreeClassifier(min_samples_split=2, criterion=\\'entropy\\')\\nclf_misclass = MyDecisionTreeClassifier(min_samples_split=2, criterion=\\'classification_error\\')\\n\\nX = df.copy()\\nX = X.drop(\\'match\\', axis=1)\\ny = df[\\'match\\']\\n\\nX_train, X_test, y_train, y_test = train_test_split(X.values, y.values, train_size=0.1, test_size=0.1, stratify=y.values)\\n\\nclf_gini.fit(X_train, y_train)\\nclf_entropy.fit(X_train, y_train)\\nclf_misclass.fit(X_train, y_train)\\n\\nprint(\\'Gini:\\', accuracy_score(y_pred=clf_gini.predict(X_train), y_true=y_train))\\nprint(\\'Entropy:\\', accuracy_score(y_pred=clf_entropy.predict(X_train), y_true=y_train))\\nprint(\\'Classification error:\\', accuracy_score(y_pred=clf_misclass.predict(X_train), y_true=y_train))\\n'"
      ]
     },
     "execution_count": 329,
     "metadata": {},
     "output_type": "execute_result"
    }
   ],
   "source": [
    "criterions = ['classification_error', 'gini', 'entropy']\n",
    "max_depths = [2, 3, 4, 5, 6]\n",
    "min_splits = [2, 4, 8, 16, 32]\n",
    "\n",
    "best_criterion = None\n",
    "best_depth = None\n",
    "best_split = None\n",
    "best_accuracy = 0.0\n",
    "\n",
    "accuracy_matrix = np.zeros(shape=(3,7,5))\n",
    "crit_dict = {0: 'classification_error', 1: 'gini', 2: 'entropy'}\n",
    "depth_dict = {0: 2, 1: 3, 2: 4, 3: 5, 4: 6}\n",
    "split_dict = {0: 2, 1: 4, 2: 8, 3: 16, 4: 32}\n",
    "\n",
    "kf = KFold(n_splits = 4, shuffle = True)\n",
    "\n",
    "X = np.array(X)\n",
    "y = np.array(y)\n",
    "\n",
    "for criterion in crit_dict.keys():\n",
    "    for max_depth in depth_dict.keys():\n",
    "        for min_split in split_dict.keys():\n",
    "            print('Fitting tree with criterion {}, max_depth={}, min_samples_split={} ...'.\\\n",
    "                  format(crit_dict[criterion], depth_dict[max_depth], split_dict[min_split]))\n",
    "            clf = MyDecisionTreeClassifier(max_depth=depth_dict[max_depth], min_samples_split=split_dict[min_split],\\\n",
    "                                           criterion=crit_dict[criterion])\n",
    "            val_scores = []\n",
    "            split_ind = kf.split(X)\n",
    "            for train_ind, test_ind in split_ind:\n",
    "                clf.fit(X[train_ind], y[train_ind])\n",
    "                val_scores.append(accuracy_score(y[test_ind], clf.predict(X[test_ind])))\n",
    "            accuracy = np.mean(np.array(val_scores))\n",
    "            accuracy_matrix[criterion, max_depth, min_split] = accuracy\n",
    "            print('Accuracy:', accuracy)\n",
    "            if accuracy > best_accuracy:\n",
    "                best_accuracy = accuracy\n",
    "                best_criterion = crit_dict[criterion]\n",
    "                best_depth = depth_dict[max_depth]\n",
    "                best_split = split_dict[min_split]\n",
    "\n"
   ]
  },
  {
   "cell_type": "code",
   "execution_count": 330,
   "metadata": {},
   "outputs": [
    {
     "name": "stdout",
     "output_type": "stream",
     "text": [
      "entropy 3 2\n"
     ]
    }
   ],
   "source": [
    "print(best_criterion, best_depth, best_split)"
   ]
  },
  {
   "cell_type": "code",
   "execution_count": 355,
   "metadata": {},
   "outputs": [
    {
     "data": {
      "image/png": "[encoded data removed]",
      "text/plain": [
       "<Figure size 432x288 with 1 Axes>"
      ]
     },
     "metadata": {
      "needs_background": "light"
     },
     "output_type": "display_data"
    }
   ],
   "source": [
    "plt.plot(accuracy_matrix[2, 1, :])\n",
    "plt.xlabel('Min number of elements to split')\n",
    "plt.ylabel('accuracy')\n",
    "plt.title('Criterion == \\'entropy\\'   Depth == 3')\n",
    "plt.grid()\n",
    "plt.show()\n"
   ]
  },
  {
   "cell_type": "code",
   "execution_count": 358,
   "metadata": {},
   "outputs": [
    {
     "data": {
      "image/png": "[encoded data removed]",
      "text/plain": [
       "<Figure size 432x288 with 1 Axes>"
      ]
     },
     "metadata": {
      "needs_background": "light"
     },
     "output_type": "display_data"
    }
   ],
   "source": [
    "plt.plot(accuracy_matrix[2, :5, 0])\n",
    "plt.xlabel('Tree depth')\n",
    "plt.ylabel('accuracy')\n",
    "plt.title('Criterion == \\'entropy\\'   Min sample split == 2')\n",
    "plt.grid()\n",
    "plt.show()\n"
   ]
  },
  {
   "cell_type": "markdown",
   "metadata": {},
   "source": [
    "## Находим самые важные признаки (2 балла)\n",
    "\n"
   ]
  },
  {
   "cell_type": "markdown",
   "metadata": {},
   "source": [
    "По построенному дереву  легко понять, какие признаки лучше всего помогли решить задачу. Часто это бывает нужно  не только  для сокращения размерности в данных, но и для лучшего понимания прикладной задачи. Например, Вы хотите понять, какие признаки стоит еще конструировать -- для этого нужно понимать, какие из текущих лучше всего работают в дереве. "
   ]
  },
  {
   "cell_type": "markdown",
   "metadata": {},
   "source": [
    "Самый простой метод -- посчитать число сплитов, где использовался данные признак. Это не лучший вариант, так как по признаку который принимает всего 2 значения, но который почти точно разделяет выборку, число сплитов будет очень 1, но при этом признак сам очень хороший. \n",
    "В этом задании предлагается для каждого признака считать суммарный gain (в лекции обозначено как Q) при использовании этого признака в сплите. Тогда даже у очень хороших признаков с маленьким число сплитов это значение должно быть довольно высоким.  "
   ]
  },
  {
   "cell_type": "markdown",
   "metadata": {},
   "source": [
    "Реализовать это довольно просто: создаете словарь номер фичи : суммарный гейн и добавляете в нужную фичу каждый раз, когда используете ее при построении дерева. "
   ]
  },
  {
   "cell_type": "markdown",
   "metadata": {},
   "source": [
    "Добавьте функционал, который определяет значения feature importance. Обучите дерево на датасете Speed Dating Data.\n",
    "Выведите 10 главных фичей по важности."
   ]
  },
  {
   "cell_type": "code",
   "execution_count": 93,
   "metadata": {},
   "outputs": [],
   "source": [
    "df = pd.read_csv('data/speed_dating.csv', encoding='cp1251')\n",
    "df = df.pipe(preproc)\n",
    "\n",
    "X = df.copy()\n",
    "X = X.drop('match', axis=1)\n",
    "y = df['match']\n",
    "\n",
    "X_train, X_test, y_train, y_test = train_test_split(X.values, y.values, train_size=0.9, test_size=0.1, stratify=y.values)\n",
    "\n",
    "clf = MyDecisionTreeClassifier(min_samples_split=2, max_depth=5, criterion='entropy')\n",
    "clf.fit(X_train, y_train)"
   ]
  },
  {
   "cell_type": "code",
   "execution_count": 94,
   "metadata": {},
   "outputs": [
    {
     "data": {
      "text/plain": [
       "['int_corr',\n",
       " 'goal=2',\n",
       " 'exphappy',\n",
       " 'sinc4_1',\n",
       " 'samerace',\n",
       " 'shar4_1',\n",
       " 'age',\n",
       " 'intel1_1',\n",
       " 'amb4_1',\n",
       " 'sinc3_1']"
      ]
     },
     "execution_count": 94,
     "metadata": {},
     "output_type": "execute_result"
    }
   ],
   "source": [
    "importances = clf.get_feature_importance()\n",
    "sorted_importances = [k for k, v in sorted(importances.items(), key=lambda item: item[1], reverse=True)]\n",
    "\n",
    "list(X.columns[sorted_importances])[:10]"
   ]
  },
  {
   "cell_type": "markdown",
   "metadata": {},
   "source": [
    "## Фидбек (бесценно)"
   ]
  },
  {
   "cell_type": "markdown",
   "metadata": {},
   "source": [
    "* Какие аспекты обучения деревьев решений Вам показались непонятными? Какое место стоит дополнительно объяснить?"
   ]
  },
  {
   "cell_type": "code",
   "execution_count": 97,
   "metadata": {},
   "outputs": [],
   "source": [
    "# Обработка категориальных признаков, обработка nan'ов"
   ]
  },
  {
   "cell_type": "markdown",
   "metadata": {},
   "source": [
    "### Ваш ответ здесь"
   ]
  },
  {
   "cell_type": "markdown",
   "metadata": {},
   "source": [
    "* Здесь Вы можете оставить отзыв о этой домашней работе или о всем курсе."
   ]
  },
  {
   "cell_type": "markdown",
   "metadata": {},
   "source": [
    "### ВАШ ОТЗЫВ ЗДЕСЬ\n",
    "\n"
   ]
  },
  {
   "cell_type": "code",
   "execution_count": 98,
   "metadata": {},
   "outputs": [],
   "source": [
    "# Всё понравилось (особенно датасет)"
   ]
  }
 ],
 "metadata": {
  "anaconda-cloud": {},
  "kernelspec": {
   "display_name": "Python 3",
   "language": "python",
   "name": "python3"
  },
  "language_info": {
   "codemirror_mode": {
    "name": "ipython",
    "version": 3
   },
   "file_extension": ".py",
   "mimetype": "text/x-python",
   "name": "python",
   "nbconvert_exporter": "python",
   "pygments_lexer": "ipython3",
   "version": "3.8.5"
  }
 },
 "nbformat": 4,
 "nbformat_minor": 2
}
